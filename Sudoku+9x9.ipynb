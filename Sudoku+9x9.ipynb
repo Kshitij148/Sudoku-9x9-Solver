{
 "cells": [
  {
   "cell_type": "code",
   "execution_count": 128,
   "metadata": {
    "collapsed": true
   },
   "outputs": [],
   "source": [
    "from copy import deepcopy\n",
    "\n",
    "Grid = [['.','.','.','2', '6','.','7','.','1'],\n",
    "        ['6','8','.', '.','7','.','.','9','.'],\n",
    "        ['1','9','.', '.','.','4','5','.','.'],\n",
    "        ['8','2','.', '1','.','.','.','4','.'],\n",
    "        ['.','.','4','6', '.','2','9','.','.'],\n",
    "        ['.','5','.', '.','.','3','.','2','8'],\n",
    "        ['.','.','9', '3','.','.','.','7','4'],\n",
    "        ['.','4','.', '.','5','.','.','3','6'],\n",
    "        ['7','.','3', '.','1','8','.','.','.']]\n",
    "\n",
    "\n",
    "elements = [\"1\",\"2\",\"3\",\"4\",\"5\",\"6\",\"7\",\"8\",\"9\"]"
   ]
  },
  {
   "cell_type": "code",
   "execution_count": 129,
   "metadata": {
    "collapsed": true
   },
   "outputs": [],
   "source": [
    "def get_rows(new_Grid):\n",
    "    rows = []\n",
    "    \n",
    "    for r in range(0,9):\n",
    "        row={}\n",
    "        for c in range(0,9):\n",
    "            row[(r,c)]=new_Grid[r][c]\n",
    "        rows.append(row)\n",
    "    \n",
    "    \n",
    "    return rows\n"
   ]
  },
  {
   "cell_type": "code",
   "execution_count": 130,
   "metadata": {},
   "outputs": [
    {
     "name": "stdout",
     "output_type": "stream",
     "text": [
      "{(0, 0): '.', (0, 1): '.', (0, 2): '.', (0, 3): '2', (0, 4): '6', (0, 5): '.', (0, 6): '7', (0, 7): '.', (0, 8): '1'}\n",
      "{(1, 0): '6', (1, 1): '8', (1, 2): '.', (1, 3): '.', (1, 4): '7', (1, 5): '.', (1, 6): '.', (1, 7): '9', (1, 8): '.'}\n",
      "{(2, 0): '1', (2, 1): '9', (2, 2): '.', (2, 3): '.', (2, 4): '.', (2, 5): '4', (2, 6): '5', (2, 7): '.', (2, 8): '.'}\n",
      "{(3, 0): '8', (3, 1): '2', (3, 2): '.', (3, 3): '1', (3, 4): '.', (3, 5): '.', (3, 6): '.', (3, 7): '4', (3, 8): '.'}\n",
      "{(4, 0): '.', (4, 1): '.', (4, 2): '4', (4, 3): '6', (4, 4): '.', (4, 5): '2', (4, 6): '9', (4, 7): '.', (4, 8): '.'}\n",
      "{(5, 0): '.', (5, 1): '5', (5, 2): '.', (5, 3): '.', (5, 4): '.', (5, 5): '3', (5, 6): '.', (5, 7): '2', (5, 8): '8'}\n",
      "{(6, 0): '.', (6, 1): '.', (6, 2): '9', (6, 3): '3', (6, 4): '.', (6, 5): '.', (6, 6): '.', (6, 7): '7', (6, 8): '4'}\n",
      "{(7, 0): '.', (7, 1): '4', (7, 2): '.', (7, 3): '.', (7, 4): '5', (7, 5): '.', (7, 6): '.', (7, 7): '3', (7, 8): '6'}\n",
      "{(8, 0): '7', (8, 1): '.', (8, 2): '3', (8, 3): '.', (8, 4): '1', (8, 5): '8', (8, 6): '.', (8, 7): '.', (8, 8): '.'}\n"
     ]
    }
   ],
   "source": [
    "## This cell is only for clarification and it is not part of the original code\n",
    "rows = get_rows(Grid)\n",
    "for r in rows:\n",
    "    print(r)"
   ]
  },
  {
   "cell_type": "code",
   "execution_count": 131,
   "metadata": {
    "collapsed": true
   },
   "outputs": [],
   "source": [
    "def get_cols(new_Grid):\n",
    "    cols = []\n",
    "    \n",
    "    for c in range(0,9):\n",
    "        col={}\n",
    "        for r in range(0,9):\n",
    "            col[(r,c)]=new_Grid[r][c]\n",
    "        cols.append(col)\n",
    "    \n",
    "    return cols"
   ]
  },
  {
   "cell_type": "code",
   "execution_count": 132,
   "metadata": {},
   "outputs": [
    {
     "name": "stdout",
     "output_type": "stream",
     "text": [
      "{(0, 0): '.', (1, 0): '6', (2, 0): '1', (3, 0): '8', (4, 0): '.', (5, 0): '.', (6, 0): '.', (7, 0): '.', (8, 0): '7'}\n",
      "{(0, 1): '.', (1, 1): '8', (2, 1): '9', (3, 1): '2', (4, 1): '.', (5, 1): '5', (6, 1): '.', (7, 1): '4', (8, 1): '.'}\n",
      "{(0, 2): '.', (1, 2): '.', (2, 2): '.', (3, 2): '.', (4, 2): '4', (5, 2): '.', (6, 2): '9', (7, 2): '.', (8, 2): '3'}\n",
      "{(0, 3): '2', (1, 3): '.', (2, 3): '.', (3, 3): '1', (4, 3): '6', (5, 3): '.', (6, 3): '3', (7, 3): '.', (8, 3): '.'}\n",
      "{(0, 4): '6', (1, 4): '7', (2, 4): '.', (3, 4): '.', (4, 4): '.', (5, 4): '.', (6, 4): '.', (7, 4): '5', (8, 4): '1'}\n",
      "{(0, 5): '.', (1, 5): '.', (2, 5): '4', (3, 5): '.', (4, 5): '2', (5, 5): '3', (6, 5): '.', (7, 5): '.', (8, 5): '8'}\n",
      "{(0, 6): '7', (1, 6): '.', (2, 6): '5', (3, 6): '.', (4, 6): '9', (5, 6): '.', (6, 6): '.', (7, 6): '.', (8, 6): '.'}\n",
      "{(0, 7): '.', (1, 7): '9', (2, 7): '.', (3, 7): '4', (4, 7): '.', (5, 7): '2', (6, 7): '7', (7, 7): '3', (8, 7): '.'}\n",
      "{(0, 8): '1', (1, 8): '.', (2, 8): '.', (3, 8): '.', (4, 8): '.', (5, 8): '8', (6, 8): '4', (7, 8): '6', (8, 8): '.'}\n"
     ]
    }
   ],
   "source": [
    "\n",
    "cols = get_cols(Grid)\n",
    "for c in cols:\n",
    "    print(c)"
   ]
  },
  {
   "cell_type": "code",
   "execution_count": 133,
   "metadata": {
    "collapsed": true
   },
   "outputs": [],
   "source": [
    "\n",
    "square_indx = [[(0,1,2),(0,1,2)],    #[(rows),(columns) ]-intersection\n",
    "               [(0,1,2),(3,4,5)],\n",
    "               [(0,1,2),(6,7,8)],\n",
    "               [(3,4,5),(0,1,2)],\n",
    "               [(3,4,5),(3,4,5)],\n",
    "               [(3,4,5),(6,7,8)],\n",
    "               [(6,7,8),(0,1,2)],    #[(rows),(columns) ]-intersection\n",
    "               [(6,7,8),(3,4,5)],\n",
    "               [(6,7,8),(6,7,8)],\n",
    "            ]\n",
    "\n",
    "def get_squares(new_Grid):\n",
    "    squares = []\n",
    "    \n",
    "    for sq in range(0,9):\n",
    "        square={}\n",
    "        for r in square_indx[sq][0]:         #to generate all possible patterns from end points of square so that wach row of list will have coordinates of a square box \n",
    "            for c in square_indx[sq][1]:\n",
    "                square[(r,c)]=new_Grid[r][c]\n",
    "        squares.append(square)\n",
    "        \n",
    "\n",
    "    return squares"
   ]
  },
  {
   "cell_type": "code",
   "execution_count": 134,
   "metadata": {},
   "outputs": [
    {
     "name": "stdout",
     "output_type": "stream",
     "text": [
      "{(0, 0): '.', (0, 1): '.', (0, 2): '.', (1, 0): '6', (1, 1): '8', (1, 2): '.', (2, 0): '1', (2, 1): '9', (2, 2): '.'}\n",
      "{(0, 3): '2', (0, 4): '6', (0, 5): '.', (1, 3): '.', (1, 4): '7', (1, 5): '.', (2, 3): '.', (2, 4): '.', (2, 5): '4'}\n",
      "{(0, 6): '7', (0, 7): '.', (0, 8): '1', (1, 6): '.', (1, 7): '9', (1, 8): '.', (2, 6): '5', (2, 7): '.', (2, 8): '.'}\n",
      "{(3, 0): '8', (3, 1): '2', (3, 2): '.', (4, 0): '.', (4, 1): '.', (4, 2): '4', (5, 0): '.', (5, 1): '5', (5, 2): '.'}\n",
      "{(3, 3): '1', (3, 4): '.', (3, 5): '.', (4, 3): '6', (4, 4): '.', (4, 5): '2', (5, 3): '.', (5, 4): '.', (5, 5): '3'}\n",
      "{(3, 6): '.', (3, 7): '4', (3, 8): '.', (4, 6): '9', (4, 7): '.', (4, 8): '.', (5, 6): '.', (5, 7): '2', (5, 8): '8'}\n",
      "{(6, 0): '.', (6, 1): '.', (6, 2): '9', (7, 0): '.', (7, 1): '4', (7, 2): '.', (8, 0): '7', (8, 1): '.', (8, 2): '3'}\n",
      "{(6, 3): '3', (6, 4): '.', (6, 5): '.', (7, 3): '.', (7, 4): '5', (7, 5): '.', (8, 3): '.', (8, 4): '1', (8, 5): '8'}\n",
      "{(6, 6): '.', (6, 7): '7', (6, 8): '4', (7, 6): '.', (7, 7): '3', (7, 8): '6', (8, 6): '.', (8, 7): '.', (8, 8): '.'}\n"
     ]
    }
   ],
   "source": [
    "\n",
    "squares = get_squares(Grid)\n",
    "for sq in squares:\n",
    "    print(sq)"
   ]
  },
  {
   "cell_type": "code",
   "execution_count": 135,
   "metadata": {
    "collapsed": true
   },
   "outputs": [],
   "source": [
    "def get_all_related_cells(new_Grid):\n",
    "    \n",
    "    rows=get_rows(new_Grid)\n",
    "    cols=get_cols(new_Grid)\n",
    "    squares=get_squares(new_Grid)\n",
    "\n",
    "    all_vec = squares + rows + cols\n",
    "    return all_vec"
   ]
  },
  {
   "cell_type": "code",
   "execution_count": 136,
   "metadata": {},
   "outputs": [
    {
     "name": "stdout",
     "output_type": "stream",
     "text": [
      "{(0, 0): '.', (0, 1): '.', (0, 2): '.', (1, 0): '6', (1, 1): '8', (1, 2): '.', (2, 0): '1', (2, 1): '9', (2, 2): '.'}\n",
      "{(0, 3): '2', (0, 4): '6', (0, 5): '.', (1, 3): '.', (1, 4): '7', (1, 5): '.', (2, 3): '.', (2, 4): '.', (2, 5): '4'}\n",
      "{(0, 6): '7', (0, 7): '.', (0, 8): '1', (1, 6): '.', (1, 7): '9', (1, 8): '.', (2, 6): '5', (2, 7): '.', (2, 8): '.'}\n",
      "{(3, 0): '8', (3, 1): '2', (3, 2): '.', (4, 0): '.', (4, 1): '.', (4, 2): '4', (5, 0): '.', (5, 1): '5', (5, 2): '.'}\n",
      "{(3, 3): '1', (3, 4): '.', (3, 5): '.', (4, 3): '6', (4, 4): '.', (4, 5): '2', (5, 3): '.', (5, 4): '.', (5, 5): '3'}\n",
      "{(3, 6): '.', (3, 7): '4', (3, 8): '.', (4, 6): '9', (4, 7): '.', (4, 8): '.', (5, 6): '.', (5, 7): '2', (5, 8): '8'}\n",
      "{(6, 0): '.', (6, 1): '.', (6, 2): '9', (7, 0): '.', (7, 1): '4', (7, 2): '.', (8, 0): '7', (8, 1): '.', (8, 2): '3'}\n",
      "{(6, 3): '3', (6, 4): '.', (6, 5): '.', (7, 3): '.', (7, 4): '5', (7, 5): '.', (8, 3): '.', (8, 4): '1', (8, 5): '8'}\n",
      "{(6, 6): '.', (6, 7): '7', (6, 8): '4', (7, 6): '.', (7, 7): '3', (7, 8): '6', (8, 6): '.', (8, 7): '.', (8, 8): '.'}\n",
      "{(0, 0): '.', (0, 1): '.', (0, 2): '.', (0, 3): '2', (0, 4): '6', (0, 5): '.', (0, 6): '7', (0, 7): '.', (0, 8): '1'}\n",
      "{(1, 0): '6', (1, 1): '8', (1, 2): '.', (1, 3): '.', (1, 4): '7', (1, 5): '.', (1, 6): '.', (1, 7): '9', (1, 8): '.'}\n",
      "{(2, 0): '1', (2, 1): '9', (2, 2): '.', (2, 3): '.', (2, 4): '.', (2, 5): '4', (2, 6): '5', (2, 7): '.', (2, 8): '.'}\n",
      "{(3, 0): '8', (3, 1): '2', (3, 2): '.', (3, 3): '1', (3, 4): '.', (3, 5): '.', (3, 6): '.', (3, 7): '4', (3, 8): '.'}\n",
      "{(4, 0): '.', (4, 1): '.', (4, 2): '4', (4, 3): '6', (4, 4): '.', (4, 5): '2', (4, 6): '9', (4, 7): '.', (4, 8): '.'}\n",
      "{(5, 0): '.', (5, 1): '5', (5, 2): '.', (5, 3): '.', (5, 4): '.', (5, 5): '3', (5, 6): '.', (5, 7): '2', (5, 8): '8'}\n",
      "{(6, 0): '.', (6, 1): '.', (6, 2): '9', (6, 3): '3', (6, 4): '.', (6, 5): '.', (6, 6): '.', (6, 7): '7', (6, 8): '4'}\n",
      "{(7, 0): '.', (7, 1): '4', (7, 2): '.', (7, 3): '.', (7, 4): '5', (7, 5): '.', (7, 6): '.', (7, 7): '3', (7, 8): '6'}\n",
      "{(8, 0): '7', (8, 1): '.', (8, 2): '3', (8, 3): '.', (8, 4): '1', (8, 5): '8', (8, 6): '.', (8, 7): '.', (8, 8): '.'}\n",
      "{(0, 0): '.', (1, 0): '6', (2, 0): '1', (3, 0): '8', (4, 0): '.', (5, 0): '.', (6, 0): '.', (7, 0): '.', (8, 0): '7'}\n",
      "{(0, 1): '.', (1, 1): '8', (2, 1): '9', (3, 1): '2', (4, 1): '.', (5, 1): '5', (6, 1): '.', (7, 1): '4', (8, 1): '.'}\n",
      "{(0, 2): '.', (1, 2): '.', (2, 2): '.', (3, 2): '.', (4, 2): '4', (5, 2): '.', (6, 2): '9', (7, 2): '.', (8, 2): '3'}\n",
      "{(0, 3): '2', (1, 3): '.', (2, 3): '.', (3, 3): '1', (4, 3): '6', (5, 3): '.', (6, 3): '3', (7, 3): '.', (8, 3): '.'}\n",
      "{(0, 4): '6', (1, 4): '7', (2, 4): '.', (3, 4): '.', (4, 4): '.', (5, 4): '.', (6, 4): '.', (7, 4): '5', (8, 4): '1'}\n",
      "{(0, 5): '.', (1, 5): '.', (2, 5): '4', (3, 5): '.', (4, 5): '2', (5, 5): '3', (6, 5): '.', (7, 5): '.', (8, 5): '8'}\n",
      "{(0, 6): '7', (1, 6): '.', (2, 6): '5', (3, 6): '.', (4, 6): '9', (5, 6): '.', (6, 6): '.', (7, 6): '.', (8, 6): '.'}\n",
      "{(0, 7): '.', (1, 7): '9', (2, 7): '.', (3, 7): '4', (4, 7): '.', (5, 7): '2', (6, 7): '7', (7, 7): '3', (8, 7): '.'}\n",
      "{(0, 8): '1', (1, 8): '.', (2, 8): '.', (3, 8): '.', (4, 8): '.', (5, 8): '8', (6, 8): '4', (7, 8): '6', (8, 8): '.'}\n"
     ]
    }
   ],
   "source": [
    "## This cell is only for clarification and it is not part of the original code\n",
    "all_vec = get_all_related_cells(Grid)\n",
    "for vector in all_vec:\n",
    "    print(vector)          #list that has first 4 as rows next 4 as columns and last 4 as squares"
   ]
  },
  {
   "cell_type": "code",
   "execution_count": 137,
   "metadata": {
    "collapsed": true
   },
   "outputs": [],
   "source": [
    "def get_new_r_c(r, c):\n",
    "       #traversing through the sudoku\n",
    "    if c==8:\n",
    "        if r==8:\n",
    "            new_r=r\n",
    "            new_c=c\n",
    "        else:\n",
    "            new_r=r+1\n",
    "            new_c=0\n",
    "    else:\n",
    "        new_r=r\n",
    "        new_c=c+1\n",
    "\n",
    "    return new_r, new_c"
   ]
  },
  {
   "cell_type": "code",
   "execution_count": 138,
   "metadata": {},
   "outputs": [
    {
     "name": "stdout",
     "output_type": "stream",
     "text": [
      "(0, 1)\n",
      "(1, 0)\n",
      "(2, 0)\n",
      "(3, 0)\n"
     ]
    }
   ],
   "source": [
    "## This cell is only for clarification and it is not part of the original code\n",
    "print(get_new_r_c(0,0))\n",
    "print(get_new_r_c(0,8))\n",
    "print(get_new_r_c(1,8))\n",
    "print(get_new_r_c(2,8))"
   ]
  },
  {
   "cell_type": "code",
   "execution_count": 139,
   "metadata": {
    "collapsed": true
   },
   "outputs": [],
   "source": [
    "def get_legal_for_cell(cell_r, cell_c, new_Grid):\n",
    "    \n",
    "    if new_Grid[cell_r][cell_c]!=\".\":\n",
    "        return [None],[None],[None]\n",
    "    \n",
    "\n",
    "\n",
    "    map = {}\n",
    "    \n",
    "    all_groups=get_all_related_cells(new_Grid)\n",
    "    for group in all_groups:\n",
    "        if (cell_r,cell_c) in group.keys():\n",
    "            map.update(group)       #get all indexes that effect that position\n",
    "        \n",
    "\n",
    "\n",
    "    exist = []\n",
    "\n",
    "    for m in map:                            #take those into exist whose value exists and not dot\n",
    "        if not map[m]==\".\":\n",
    "            exist.append(map[m])\n",
    "\n",
    "\n",
    "    \n",
    "    rest=list(set(elements)-set(exist))      #subtrat the conflicting elements from the total elements to get the numbers that can be placed in that index.\n",
    "    \n",
    "\n",
    "    return rest, exist, map"
   ]
  },
  {
   "cell_type": "code",
   "execution_count": 140,
   "metadata": {},
   "outputs": [
    {
     "name": "stdout",
     "output_type": "stream",
     "text": [
      "{(0, 0): '.', (0, 1): '.', (0, 2): '.', (1, 0): '6', (1, 1): '8', (1, 2): '.', (2, 0): '1', (2, 1): '9', (2, 2): '.', (0, 3): '2', (0, 4): '6', (0, 5): '.', (0, 6): '7', (0, 7): '.', (0, 8): '1', (3, 0): '8', (4, 0): '.', (5, 0): '.', (6, 0): '.', (7, 0): '.', (8, 0): '7'}\n",
      "['6', '8', '1', '9', '2', '6', '7', '1', '8', '7']\n",
      "['4', '5', '3']\n"
     ]
    }
   ],
   "source": [
    "## This cell is only for clarification and it is not part of the original code\n",
    "r = 0\n",
    "c = 0\n",
    "legal_for_cell, exist, map = get_legal_for_cell(r, c, Grid)\n",
    "print(map)\n",
    "print(exist)\n",
    "print(legal_for_cell)"
   ]
  },
  {
   "cell_type": "code",
   "execution_count": 141,
   "metadata": {
    "collapsed": true
   },
   "outputs": [],
   "source": [
    "def is_complete(new_Grid):\n",
    "    grid_complete = True\n",
    "    for r in new_Grid:\n",
    "        grid_complete = grid_complete and not ('.' in r)\n",
    "    return grid_complete\n",
    "\n",
    "def print_grid(new_Grid):\n",
    "    for item in new_Grid:\n",
    "        print(item)\n"
   ]
  },
  {
   "cell_type": "code",
   "execution_count": 142,
   "metadata": {},
   "outputs": [
    {
     "name": "stdout",
     "output_type": "stream",
     "text": [
      "False\n"
     ]
    }
   ],
   "source": [
    "\n",
    "print(is_complete(Grid))"
   ]
  },
  {
   "cell_type": "code",
   "execution_count": 143,
   "metadata": {},
   "outputs": [
    {
     "name": "stdout",
     "output_type": "stream",
     "text": [
      "['.', '.', '.', '2', '6', '.', '7', '.', '1']\n",
      "['6', '8', '.', '.', '7', '.', '.', '9', '.']\n",
      "['1', '9', '.', '.', '.', '4', '5', '.', '.']\n",
      "['8', '2', '.', '1', '.', '.', '.', '4', '.']\n",
      "['.', '.', '4', '6', '.', '2', '9', '.', '.']\n",
      "['.', '5', '.', '.', '.', '3', '.', '2', '8']\n",
      "['.', '.', '9', '3', '.', '.', '.', '7', '4']\n",
      "['.', '4', '.', '.', '5', '.', '.', '3', '6']\n",
      "['7', '.', '3', '.', '1', '8', '.', '.', '.']\n"
     ]
    }
   ],
   "source": [
    "\n",
    "print_grid(Grid)"
   ]
  },
  {
   "cell_type": "code",
   "execution_count": 144,
   "metadata": {},
   "outputs": [
    {
     "name": "stdout",
     "output_type": "stream",
     "text": [
      "x: [50, 2, 150, 200]\n",
      "y: [50, 2, 150, 200]\n",
      "z: [1, 2, 3]\n"
     ]
    }
   ],
   "source": [
    "## This cell is only for clarification and it is not part of the original code\n",
    "\n",
    "\n",
    "from copy import deepcopy\n",
    "x=[1,2,3]\n",
    "y=x\n",
    "z=deepcopy(x)\n",
    "x[0]=50\n",
    "x[2]=150\n",
    "x.append(200)\n",
    "print(\"x:\",x)\n",
    "print(\"y:\",y)\n",
    "print(\"z:\",z)\n"
   ]
  },
  {
   "cell_type": "code",
   "execution_count": 146,
   "metadata": {
    "scrolled": true
   },
   "outputs": [
    {
     "name": "stdout",
     "output_type": "stream",
     "text": [
      "1  1  2  3  5  8  13  21  34  55  89  "
     ]
    }
   ],
   "source": [
    "## This cell is only for clarification and it is not part of the original code\n",
    "def fibonacci(n):\n",
    "\n",
    "    if n==1 or n==2:\n",
    "        return 1\n",
    "    return fibonacci(n-1)+fibonacci(n-2)\n",
    "\n",
    "for i in range(1,12):\n",
    "    print(fibonacci(i),end=\"  \")\n"
   ]
  },
  {
   "cell_type": "code",
   "execution_count": 147,
   "metadata": {},
   "outputs": [
    {
     "name": "stdout",
     "output_type": "stream",
     "text": [
      "Incomplete:\n",
      "['.', '.', '.', '2', '6', '.', '7', '.', '1']\n",
      "['6', '8', '.', '.', '7', '.', '.', '9', '.']\n",
      "['1', '9', '.', '.', '.', '4', '5', '.', '.']\n",
      "['8', '2', '.', '1', '.', '.', '.', '4', '.']\n",
      "['.', '.', '4', '6', '.', '2', '9', '.', '.']\n",
      "['.', '5', '.', '.', '.', '3', '.', '2', '8']\n",
      "['.', '.', '9', '3', '.', '.', '.', '7', '4']\n",
      "['.', '4', '.', '.', '5', '.', '.', '3', '6']\n",
      "['7', '.', '3', '.', '1', '8', '.', '.', '.']\n",
      "Complete:\n",
      "['4', '3', '5', '2', '6', '9', '7', '8', '1']\n",
      "['6', '8', '2', '5', '7', '1', '4', '9', '3']\n",
      "['1', '9', '7', '8', '3', '4', '5', '6', '2']\n",
      "['8', '2', '6', '1', '9', '5', '3', '4', '7']\n",
      "['3', '7', '4', '6', '8', '2', '9', '1', '5']\n",
      "['9', '5', '1', '7', '4', '3', '6', '2', '8']\n",
      "['5', '1', '9', '3', '2', '6', '8', '7', '4']\n",
      "['2', '4', '8', '9', '5', '7', '1', '3', '6']\n",
      "['7', '6', '3', '4', '1', '8', '2', '5', '9']\n"
     ]
    }
   ],
   "source": [
    "def solve_step_in_sudoko(last_Grid, r, c):\n",
    "    if is_complete(last_Grid):\n",
    "        print('Complete:')\n",
    "        print_grid(last_Grid)\n",
    "        return 0\n",
    "    \n",
    "    legal_for_cell,_ ,_ = get_legal_for_cell(r, c, last_Grid)\n",
    "\n",
    "    for item in legal_for_cell:\n",
    "        new_Grid = deepcopy(last_Grid)\n",
    "        if last_Grid[r][c]=='.':\n",
    "            new_Grid[r][c] = item\n",
    "        new_r, new_c = get_new_r_c(r, c)\n",
    "        \n",
    "        solve_step_in_sudoko(new_Grid, new_r, new_c)\n",
    "print(\"Incomplete:\")\n",
    "print_grid(Grid)\n",
    "solve_step_in_sudoko(Grid, 0, 0)"
   ]
  },
  {
   "cell_type": "code",
   "execution_count": null,
   "metadata": {},
   "outputs": [],
   "source": []
  },
  {
   "cell_type": "code",
   "execution_count": null,
   "metadata": {},
   "outputs": [],
   "source": []
  },
  {
   "cell_type": "code",
   "execution_count": null,
   "metadata": {
    "collapsed": true
   },
   "outputs": [],
   "source": []
  }
 ],
 "metadata": {
  "kernelspec": {
   "display_name": "Python 3",
   "language": "python",
   "name": "python3"
  },
  "language_info": {
   "codemirror_mode": {
    "name": "ipython",
    "version": 3
   },
   "file_extension": ".py",
   "mimetype": "text/x-python",
   "name": "python",
   "nbconvert_exporter": "python",
   "pygments_lexer": "ipython3",
   "version": "3.6.2"
  }
 },
 "nbformat": 4,
 "nbformat_minor": 4
}
